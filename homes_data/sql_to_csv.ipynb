{
 "cells": [
  {
   "cell_type": "code",
   "execution_count": 1,
   "id": "a484d5b7-1523-4b52-ad62-cf1086075a72",
   "metadata": {},
   "outputs": [],
   "source": [
    "import sqlite3\n",
    "import pandas as pd\n",
    "# from glob import glob; from os.path import expanduser\n",
    "# conn = sqlite3.connect('homeye.db')\n",
    "# cursor = conn.cursor()\n",
    "# clients = pd.read_sql('SELECT * FROM Student' ,conn)\n",
    "# clients.to_csv('csvdata.csv', index=False)"
   ]
  },
  {
   "cell_type": "code",
   "execution_count": 2,
   "id": "21138564-e24b-41f8-8446-18f277722569",
   "metadata": {},
   "outputs": [],
   "source": [
    "clients = pd.read_sql('SELECT * FROM homes',conn)"
   ]
  },
  {
   "cell_type": "code",
   "execution_count": 3,
   "id": "3441ddbe-115e-43ad-a831-3e32d9b771f5",
   "metadata": {},
   "outputs": [],
   "source": [
    "clients.to_csv('homedata.csv',index = False)"
   ]
  },
  {
   "cell_type": "markdown",
   "id": "60ebbffc-3cbb-4079-93fe-b4a2f9e9f22d",
   "metadata": {},
   "source": [
    "#### convert csv to json\n"
   ]
  },
  {
   "cell_type": "code",
   "execution_count": 3,
   "id": "8a3c7137-2073-4140-ba07-554e7a9cd921",
   "metadata": {},
   "outputs": [],
   "source": [
    "df = pd.read_csv('db_data.csv')"
   ]
  },
  {
   "cell_type": "code",
   "execution_count": 4,
   "id": "91667a9c-fd2a-4bef-80eb-78f95a15a96c",
   "metadata": {},
   "outputs": [
    {
     "data": {
      "text/plain": [
       "Index(['home_id', 'address', 'city', 'state_or_province', 'zip_or_postal_code',\n",
       "       'price', 'beds', 'baths', 'square_footage', 'lot_size', 'year_built',\n",
       "       'monthly_hoa', 'latitude', 'longitude', 'redfin_url', 'property_type',\n",
       "       'location', 'dollars_per_square_feet', 'next_open_house_start_time',\n",
       "       'next_open_house_end_time', 'days_on_market', 'status', 'sale_type',\n",
       "       'sold_date', 'date_last_updated', 'date_created'],\n",
       "      dtype='object')"
      ]
     },
     "execution_count": 4,
     "metadata": {},
     "output_type": "execute_result"
    }
   ],
   "source": [
    "df.columns"
   ]
  },
  {
   "cell_type": "code",
   "execution_count": 5,
   "id": "7500618b-83ec-400b-92f5-5a8e3cee6e96",
   "metadata": {},
   "outputs": [],
   "source": [
    "df = df[['latitude','longitude']]"
   ]
  },
  {
   "cell_type": "code",
   "execution_count": 6,
   "id": "1d4f642f-d14e-4455-aee4-eba47ed6ff27",
   "metadata": {},
   "outputs": [],
   "source": [
    "df['file_name'] = df['latitude'].astype(str) +','+df['longitude'].astype(str)"
   ]
  },
  {
   "cell_type": "code",
   "execution_count": 7,
   "id": "3449aacc-bd71-4a5e-8b53-cd07124bf19f",
   "metadata": {},
   "outputs": [
    {
     "data": {
      "text/html": [
       "<div>\n",
       "<style scoped>\n",
       "    .dataframe tbody tr th:only-of-type {\n",
       "        vertical-align: middle;\n",
       "    }\n",
       "\n",
       "    .dataframe tbody tr th {\n",
       "        vertical-align: top;\n",
       "    }\n",
       "\n",
       "    .dataframe thead th {\n",
       "        text-align: right;\n",
       "    }\n",
       "</style>\n",
       "<table border=\"1\" class=\"dataframe\">\n",
       "  <thead>\n",
       "    <tr style=\"text-align: right;\">\n",
       "      <th></th>\n",
       "      <th>latitude</th>\n",
       "      <th>longitude</th>\n",
       "      <th>file_name</th>\n",
       "    </tr>\n",
       "  </thead>\n",
       "  <tbody>\n",
       "    <tr>\n",
       "      <th>0</th>\n",
       "      <td>32.963942</td>\n",
       "      <td>-117.032399</td>\n",
       "      <td>32.9639423,-117.0323995</td>\n",
       "    </tr>\n",
       "    <tr>\n",
       "      <th>1</th>\n",
       "      <td>33.169871</td>\n",
       "      <td>-117.229833</td>\n",
       "      <td>33.1698711,-117.2298333</td>\n",
       "    </tr>\n",
       "    <tr>\n",
       "      <th>2</th>\n",
       "      <td>32.766721</td>\n",
       "      <td>-117.159725</td>\n",
       "      <td>32.7667211,-117.1597247</td>\n",
       "    </tr>\n",
       "    <tr>\n",
       "      <th>3</th>\n",
       "      <td>32.766721</td>\n",
       "      <td>-117.159725</td>\n",
       "      <td>32.7667211,-117.1597247</td>\n",
       "    </tr>\n",
       "    <tr>\n",
       "      <th>4</th>\n",
       "      <td>32.850171</td>\n",
       "      <td>-116.930381</td>\n",
       "      <td>32.8501714,-116.9303808</td>\n",
       "    </tr>\n",
       "    <tr>\n",
       "      <th>...</th>\n",
       "      <td>...</td>\n",
       "      <td>...</td>\n",
       "      <td>...</td>\n",
       "    </tr>\n",
       "    <tr>\n",
       "      <th>14963</th>\n",
       "      <td>32.761063</td>\n",
       "      <td>-117.050490</td>\n",
       "      <td>32.7610625,-117.0504899</td>\n",
       "    </tr>\n",
       "    <tr>\n",
       "      <th>14964</th>\n",
       "      <td>32.731667</td>\n",
       "      <td>-117.007738</td>\n",
       "      <td>32.7316667,-117.0077376</td>\n",
       "    </tr>\n",
       "    <tr>\n",
       "      <th>14965</th>\n",
       "      <td>32.821911</td>\n",
       "      <td>-116.831098</td>\n",
       "      <td>32.821911,-116.8310977</td>\n",
       "    </tr>\n",
       "    <tr>\n",
       "      <th>14966</th>\n",
       "      <td>32.790849</td>\n",
       "      <td>-117.168345</td>\n",
       "      <td>32.7908491,-117.1683454</td>\n",
       "    </tr>\n",
       "    <tr>\n",
       "      <th>14967</th>\n",
       "      <td>33.148181</td>\n",
       "      <td>-117.102996</td>\n",
       "      <td>33.148181,-117.102996</td>\n",
       "    </tr>\n",
       "  </tbody>\n",
       "</table>\n",
       "<p>14968 rows × 3 columns</p>\n",
       "</div>"
      ],
      "text/plain": [
       "        latitude   longitude                file_name\n",
       "0      32.963942 -117.032399  32.9639423,-117.0323995\n",
       "1      33.169871 -117.229833  33.1698711,-117.2298333\n",
       "2      32.766721 -117.159725  32.7667211,-117.1597247\n",
       "3      32.766721 -117.159725  32.7667211,-117.1597247\n",
       "4      32.850171 -116.930381  32.8501714,-116.9303808\n",
       "...          ...         ...                      ...\n",
       "14963  32.761063 -117.050490  32.7610625,-117.0504899\n",
       "14964  32.731667 -117.007738  32.7316667,-117.0077376\n",
       "14965  32.821911 -116.831098   32.821911,-116.8310977\n",
       "14966  32.790849 -117.168345  32.7908491,-117.1683454\n",
       "14967  33.148181 -117.102996    33.148181,-117.102996\n",
       "\n",
       "[14968 rows x 3 columns]"
      ]
     },
     "execution_count": 7,
     "metadata": {},
     "output_type": "execute_result"
    }
   ],
   "source": [
    "df"
   ]
  },
  {
   "cell_type": "code",
   "execution_count": 8,
   "id": "6dac25bb-1cff-4de9-b8db-97c922896b9b",
   "metadata": {},
   "outputs": [],
   "source": [
    "df.to_csv('homedata_lat_long.csv',index = False)"
   ]
  },
  {
   "cell_type": "code",
   "execution_count": null,
   "id": "2d945e75-9c38-45e5-9e3c-817aa4eab5ec",
   "metadata": {},
   "outputs": [],
   "source": []
  }
 ],
 "metadata": {
  "kernelspec": {
   "display_name": "env",
   "language": "python",
   "name": "python3"
  },
  "language_info": {
   "codemirror_mode": {
    "name": "ipython",
    "version": 3
   },
   "file_extension": ".py",
   "mimetype": "text/x-python",
   "name": "python",
   "nbconvert_exporter": "python",
   "pygments_lexer": "ipython3",
   "version": "3.9.12"
  },
  "vscode": {
   "interpreter": {
    "hash": "a26c349fa484dcef4dd8ab2fb5853460288ca51b0f14d7543503aa740326d0dc"
   }
  }
 },
 "nbformat": 4,
 "nbformat_minor": 5
}
